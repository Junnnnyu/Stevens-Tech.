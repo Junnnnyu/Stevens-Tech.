{
 "cells": [
  {
   "cell_type": "code",
   "execution_count": 1,
   "metadata": {},
   "outputs": [],
   "source": [
    "import numpy as np\n",
    "import pandas as pd\n",
    "import os\n",
    "from scipy.optimize import minimize\n",
    "from math import sqrt\n",
    "import matplotlib.pyplot as plt\n",
    "from sklearn import linear_model"
   ]
  },
  {
   "cell_type": "code",
   "execution_count": null,
   "metadata": {},
   "outputs": [],
   "source": [
    "def processdata():\n",
    "    path = '/Users/Administrator/Desktop/data/' os.chdir(path)\n",
    "    pathname = os.listdir(path)\n",
    "    pathname = [x for x in pathname if x[-4:]==\".txt\"] stock_name = [x[:-4] for x in pathname]\n",
    "    print (stock_name)\n",
    "    P = {}.fromkeys(stock_name)\n",
    "    for i,txt in enumerate(pathname):\n",
    "    doc = pd.read_csv(txt, sep=\" \", header=None) #read each .txt documents P[stock_name[i]] = \n",
    "    doc.iloc[:,-1] #get the close price\n",
    "    P = pd.DataFrame(P)\n",
    "    P.index = pd.to_datetime(doc.iloc[:,0],format=\"%Y%m%d\") P.dropna(inplace=True,axis=1)\n",
    "    print(P.head())\n",
    "    daily_returns = (P/P.shift(1))-1 print(daily_returns.head())\n",
    "    mu = daily_returns.mean()*100 Q = daily_returns.cov()\n",
    "    return mu,Q\n"
   ]
  },
  {
   "cell_type": "code",
   "execution_count": null,
   "metadata": {},
   "outputs": [],
   "source": [
    "#2.placing the adjusted closing prices\n",
    "mu, Q = processdata()\n",
    "print('mu:' + '\\n' + str(mu.head()))\n",
    "print('Q:' + '\\n' + str(Q.head()))\n",
    "\n",
    "# wirte return rate and covariance matrix into file \n",
    "with open(\"inputs.ext\",'w') as f:\n",
    "    for a in mu.values: f.write(str(a)):\n",
    "        f.write(' ')\n",
    "        f.write('\\n')\n",
    "    for b in range(len(Q)):\n",
    "        for c in range(Q.shape[1]): \n",
    "            f.write(str(Q.iloc[b,c])) \n",
    "            f.write(' ')\n",
    "        f.write('\\n')\n",
    "    f.close()\n"
   ]
  },
  {
   "cell_type": "code",
   "execution_count": null,
   "metadata": {},
   "outputs": [],
   "source": [
    "#Question 2\n",
    "def port(mu,Q,tau):\n",
    "    U = minimize (lambda x: 0.5 * x.transpose().dot(x)-tau*x.transpose().dot(mu), x0=np.ones(30),\n",
    "    bounds = ((0,0.1),)* len(Q), constraints=({'type':'eq','fun': lambda x: x.sum()-1}))\n",
    "\n",
    "    return U\n",
    "U_h = port(mu,Q,0.1)\n"
   ]
  }
 ],
 "metadata": {
  "kernelspec": {
   "display_name": "Python 3",
   "language": "python",
   "name": "python3"
  },
  "language_info": {
   "codemirror_mode": {
    "name": "ipython",
    "version": 3
   },
   "file_extension": ".py",
   "mimetype": "text/x-python",
   "name": "python",
   "nbconvert_exporter": "python",
   "pygments_lexer": "ipython3",
   "version": "3.8.3"
  }
 },
 "nbformat": 4,
 "nbformat_minor": 4
}
