{
 "cells": [
  {
   "cell_type": "code",
   "execution_count": 2,
   "metadata": {},
   "outputs": [],
   "source": [
    "import numpy as np\n",
    "import matplotlib.pyplot as plt\n",
    "import pandas as pd\n",
    "from numpy.linalg import inv\n",
    "from cvxopt import matrix, solvers\n",
    "from numpy import c_\n",
    "import pandas_datareader as pdr"
   ]
  },
  {
   "cell_type": "markdown",
   "metadata": {},
   "source": [
    "# 2.4 Numerical Application for Exponential Utility"
   ]
  },
  {
   "cell_type": "code",
   "execution_count": 3,
   "metadata": {},
   "outputs": [],
   "source": [
    "#Download data\n",
    "company = ['AAPL', 'GOOGL', 'FB', 'AMZN']\n",
    "df = pd.DataFrame()\n",
    "\n",
    "for i in company:\n",
    "    df[i] = pdr.DataReader(i, data_source='yahoo', start='2020/09/01', end=\"2021/09/01\")['Close']"
   ]
  },
  {
   "cell_type": "code",
   "execution_count": 4,
   "metadata": {
    "scrolled": false
   },
   "outputs": [
    {
     "data": {
      "text/html": [
       "<div>\n",
       "<style scoped>\n",
       "    .dataframe tbody tr th:only-of-type {\n",
       "        vertical-align: middle;\n",
       "    }\n",
       "\n",
       "    .dataframe tbody tr th {\n",
       "        vertical-align: top;\n",
       "    }\n",
       "\n",
       "    .dataframe thead th {\n",
       "        text-align: right;\n",
       "    }\n",
       "</style>\n",
       "<table border=\"1\" class=\"dataframe\">\n",
       "  <thead>\n",
       "    <tr style=\"text-align: right;\">\n",
       "      <th></th>\n",
       "      <th>AAPL</th>\n",
       "      <th>GOOGL</th>\n",
       "      <th>FB</th>\n",
       "      <th>AMZN</th>\n",
       "    </tr>\n",
       "    <tr>\n",
       "      <th>Date</th>\n",
       "      <th></th>\n",
       "      <th></th>\n",
       "      <th></th>\n",
       "      <th></th>\n",
       "    </tr>\n",
       "  </thead>\n",
       "  <tbody>\n",
       "    <tr>\n",
       "      <th>2020-09-01</th>\n",
       "      <td>134.179993</td>\n",
       "      <td>1655.079956</td>\n",
       "      <td>295.440002</td>\n",
       "      <td>3499.120117</td>\n",
       "    </tr>\n",
       "    <tr>\n",
       "      <th>2020-09-02</th>\n",
       "      <td>131.399994</td>\n",
       "      <td>1717.390015</td>\n",
       "      <td>302.500000</td>\n",
       "      <td>3531.449951</td>\n",
       "    </tr>\n",
       "    <tr>\n",
       "      <th>2020-09-03</th>\n",
       "      <td>120.879997</td>\n",
       "      <td>1629.510010</td>\n",
       "      <td>291.119995</td>\n",
       "      <td>3368.000000</td>\n",
       "    </tr>\n",
       "    <tr>\n",
       "      <th>2020-09-04</th>\n",
       "      <td>120.959999</td>\n",
       "      <td>1581.209961</td>\n",
       "      <td>282.730011</td>\n",
       "      <td>3294.620117</td>\n",
       "    </tr>\n",
       "    <tr>\n",
       "      <th>2020-09-08</th>\n",
       "      <td>112.820000</td>\n",
       "      <td>1523.599976</td>\n",
       "      <td>271.160004</td>\n",
       "      <td>3149.840088</td>\n",
       "    </tr>\n",
       "  </tbody>\n",
       "</table>\n",
       "</div>"
      ],
      "text/plain": [
       "                  AAPL        GOOGL          FB         AMZN\n",
       "Date                                                        \n",
       "2020-09-01  134.179993  1655.079956  295.440002  3499.120117\n",
       "2020-09-02  131.399994  1717.390015  302.500000  3531.449951\n",
       "2020-09-03  120.879997  1629.510010  291.119995  3368.000000\n",
       "2020-09-04  120.959999  1581.209961  282.730011  3294.620117\n",
       "2020-09-08  112.820000  1523.599976  271.160004  3149.840088"
      ]
     },
     "execution_count": 4,
     "metadata": {},
     "output_type": "execute_result"
    }
   ],
   "source": [
    "df.head()"
   ]
  },
  {
   "cell_type": "code",
   "execution_count": 5,
   "metadata": {
    "scrolled": true
   },
   "outputs": [
    {
     "name": "stdout",
     "output_type": "stream",
     "text": [
      "<class 'pandas.core.frame.DataFrame'>\n",
      "DatetimeIndex: 253 entries, 2020-09-01 to 2021-09-01\n",
      "Data columns (total 4 columns):\n",
      " #   Column  Non-Null Count  Dtype  \n",
      "---  ------  --------------  -----  \n",
      " 0   AAPL    253 non-null    float64\n",
      " 1   GOOGL   253 non-null    float64\n",
      " 2   FB      253 non-null    float64\n",
      " 3   AMZN    253 non-null    float64\n",
      "dtypes: float64(4)\n",
      "memory usage: 9.9 KB\n"
     ]
    }
   ],
   "source": [
    "df.info()"
   ]
  },
  {
   "cell_type": "markdown",
   "metadata": {},
   "source": [
    "# Compute Expect Return and Variance"
   ]
  },
  {
   "cell_type": "code",
   "execution_count": 6,
   "metadata": {
    "scrolled": false
   },
   "outputs": [
    {
     "data": {
      "text/html": [
       "<div>\n",
       "<style scoped>\n",
       "    .dataframe tbody tr th:only-of-type {\n",
       "        vertical-align: middle;\n",
       "    }\n",
       "\n",
       "    .dataframe tbody tr th {\n",
       "        vertical-align: top;\n",
       "    }\n",
       "\n",
       "    .dataframe thead th {\n",
       "        text-align: right;\n",
       "    }\n",
       "</style>\n",
       "<table border=\"1\" class=\"dataframe\">\n",
       "  <thead>\n",
       "    <tr style=\"text-align: right;\">\n",
       "      <th></th>\n",
       "      <th>AAPL</th>\n",
       "      <th>GOOGL</th>\n",
       "      <th>FB</th>\n",
       "      <th>AMZN</th>\n",
       "    </tr>\n",
       "    <tr>\n",
       "      <th>Date</th>\n",
       "      <th></th>\n",
       "      <th></th>\n",
       "      <th></th>\n",
       "      <th></th>\n",
       "    </tr>\n",
       "  </thead>\n",
       "  <tbody>\n",
       "    <tr>\n",
       "      <th>2020-09-01</th>\n",
       "      <td>0.000000</td>\n",
       "      <td>0.000000</td>\n",
       "      <td>0.000000</td>\n",
       "      <td>0.000000</td>\n",
       "    </tr>\n",
       "    <tr>\n",
       "      <th>2020-09-02</th>\n",
       "      <td>-0.020936</td>\n",
       "      <td>0.036956</td>\n",
       "      <td>0.023615</td>\n",
       "      <td>0.009197</td>\n",
       "    </tr>\n",
       "    <tr>\n",
       "      <th>2020-09-03</th>\n",
       "      <td>-0.083448</td>\n",
       "      <td>-0.052526</td>\n",
       "      <td>-0.038346</td>\n",
       "      <td>-0.047389</td>\n",
       "    </tr>\n",
       "    <tr>\n",
       "      <th>2020-09-04</th>\n",
       "      <td>0.000662</td>\n",
       "      <td>-0.030089</td>\n",
       "      <td>-0.029243</td>\n",
       "      <td>-0.022028</td>\n",
       "    </tr>\n",
       "    <tr>\n",
       "      <th>2020-09-08</th>\n",
       "      <td>-0.069666</td>\n",
       "      <td>-0.037114</td>\n",
       "      <td>-0.041783</td>\n",
       "      <td>-0.044939</td>\n",
       "    </tr>\n",
       "  </tbody>\n",
       "</table>\n",
       "</div>"
      ],
      "text/plain": [
       "                AAPL     GOOGL        FB      AMZN\n",
       "Date                                              \n",
       "2020-09-01  0.000000  0.000000  0.000000  0.000000\n",
       "2020-09-02 -0.020936  0.036956  0.023615  0.009197\n",
       "2020-09-03 -0.083448 -0.052526 -0.038346 -0.047389\n",
       "2020-09-04  0.000662 -0.030089 -0.029243 -0.022028\n",
       "2020-09-08 -0.069666 -0.037114 -0.041783 -0.044939"
      ]
     },
     "execution_count": 6,
     "metadata": {},
     "output_type": "execute_result"
    }
   ],
   "source": [
    "returns = np.log(df / df.shift(1)) #compute log return\n",
    "returns.fillna(value=0, inplace=True)\n",
    "returns.head()"
   ]
  },
  {
   "cell_type": "code",
   "execution_count": 7,
   "metadata": {},
   "outputs": [],
   "source": [
    "means = returns.mean() * 252\n",
    "covariance = returns.cov() *252"
   ]
  },
  {
   "cell_type": "code",
   "execution_count": 8,
   "metadata": {
    "scrolled": true
   },
   "outputs": [
    {
     "name": "stdout",
     "output_type": "stream",
     "text": [
      "AAPL     0.127542\n",
      "GOOGL    0.560124\n",
      "FB       0.256070\n",
      "AMZN    -0.005744\n",
      "dtype: float64\n",
      "           AAPL     GOOGL        FB      AMZN\n",
      "AAPL   0.097447  0.047372  0.061481  0.062521\n",
      "GOOGL  0.047372  0.070965  0.058383  0.046372\n",
      "FB     0.061481  0.058383  0.102010  0.061422\n",
      "AMZN   0.062521  0.046372  0.061422  0.083245\n"
     ]
    }
   ],
   "source": [
    "print(means)\n",
    "print(covariance)"
   ]
  },
  {
   "cell_type": "code",
   "execution_count": 9,
   "metadata": {},
   "outputs": [],
   "source": [
    "# transfor to matrix\n",
    "mean_list = np.array(means)\n",
    "mean_matrix = matrix(means)\n",
    "cov_list = np.array(covariance)\n",
    "cov_matrix = matrix(cov_list)"
   ]
  },
  {
   "cell_type": "code",
   "execution_count": 10,
   "metadata": {},
   "outputs": [],
   "source": [
    "la = np.linspace(0,0.5,501)\n",
    "p = matrix(np.zeros((4,1)))\n",
    "sol = []\n",
    "A = matrix(np.c_[np.ones(4), mean_matrix]).T\n",
    "risk = np.linspace(0,0,501)\n",
    "exp_return = np.linspace(0,0,501)"
   ]
  },
  {
   "cell_type": "code",
   "execution_count": 11,
   "metadata": {
    "scrolled": false
   },
   "outputs": [],
   "source": [
    "for i in range(len(la)):\n",
    "    b = matrix(np.c_[np.ones(1),la[i]]).T\n",
    "    sol.append(solvers.qp(cov_matrix,p,A=A,b=b)['x'])\n",
    "    risk[i] = np.sqrt(sol[i].T*cov_matrix*sol[i])\n",
    "    exp_return[i]=np.matmul(sol[i].T,mean_matrix)"
   ]
  },
  {
   "cell_type": "code",
   "execution_count": 14,
   "metadata": {},
   "outputs": [
    {
     "name": "stdout",
     "output_type": "stream",
     "text": [
      "[9.33922007e-17 1.00000000e-03 2.00000000e-03 3.00000000e-03\n",
      " 4.00000000e-03 5.00000000e-03 6.00000000e-03 7.00000000e-03\n",
      " 8.00000000e-03 9.00000000e-03 1.00000000e-02 1.10000000e-02\n",
      " 1.20000000e-02 1.30000000e-02 1.40000000e-02 1.50000000e-02\n",
      " 1.60000000e-02 1.70000000e-02 1.80000000e-02 1.90000000e-02\n",
      " 2.00000000e-02 2.10000000e-02 2.20000000e-02 2.30000000e-02\n",
      " 2.40000000e-02 2.50000000e-02 2.60000000e-02 2.70000000e-02\n",
      " 2.80000000e-02 2.90000000e-02 3.00000000e-02 3.10000000e-02\n",
      " 3.20000000e-02 3.30000000e-02 3.40000000e-02 3.50000000e-02\n",
      " 3.60000000e-02 3.70000000e-02 3.80000000e-02 3.90000000e-02\n",
      " 4.00000000e-02 4.10000000e-02 4.20000000e-02 4.30000000e-02\n",
      " 4.40000000e-02 4.50000000e-02 4.60000000e-02 4.70000000e-02\n",
      " 4.80000000e-02 4.90000000e-02 5.00000000e-02 5.10000000e-02\n",
      " 5.20000000e-02 5.30000000e-02 5.40000000e-02 5.50000000e-02\n",
      " 5.60000000e-02 5.70000000e-02 5.80000000e-02 5.90000000e-02\n",
      " 6.00000000e-02 6.10000000e-02 6.20000000e-02 6.30000000e-02\n",
      " 6.40000000e-02 6.50000000e-02 6.60000000e-02 6.70000000e-02\n",
      " 6.80000000e-02 6.90000000e-02 7.00000000e-02 7.10000000e-02\n",
      " 7.20000000e-02 7.30000000e-02 7.40000000e-02 7.50000000e-02\n",
      " 7.60000000e-02 7.70000000e-02 7.80000000e-02 7.90000000e-02\n",
      " 8.00000000e-02 8.10000000e-02 8.20000000e-02 8.30000000e-02\n",
      " 8.40000000e-02 8.50000000e-02 8.60000000e-02 8.70000000e-02\n",
      " 8.80000000e-02 8.90000000e-02 9.00000000e-02 9.10000000e-02\n",
      " 9.20000000e-02 9.30000000e-02 9.40000000e-02 9.50000000e-02\n",
      " 9.60000000e-02 9.70000000e-02 9.80000000e-02 9.90000000e-02\n",
      " 1.00000000e-01 1.01000000e-01 1.02000000e-01 1.03000000e-01\n",
      " 1.04000000e-01 1.05000000e-01 1.06000000e-01 1.07000000e-01\n",
      " 1.08000000e-01 1.09000000e-01 1.10000000e-01 1.11000000e-01\n",
      " 1.12000000e-01 1.13000000e-01 1.14000000e-01 1.15000000e-01\n",
      " 1.16000000e-01 1.17000000e-01 1.18000000e-01 1.19000000e-01\n",
      " 1.20000000e-01 1.21000000e-01 1.22000000e-01 1.23000000e-01\n",
      " 1.24000000e-01 1.25000000e-01 1.26000000e-01 1.27000000e-01\n",
      " 1.28000000e-01 1.29000000e-01 1.30000000e-01 1.31000000e-01\n",
      " 1.32000000e-01 1.33000000e-01 1.34000000e-01 1.35000000e-01\n",
      " 1.36000000e-01 1.37000000e-01 1.38000000e-01 1.39000000e-01\n",
      " 1.40000000e-01 1.41000000e-01 1.42000000e-01 1.43000000e-01\n",
      " 1.44000000e-01 1.45000000e-01 1.46000000e-01 1.47000000e-01\n",
      " 1.48000000e-01 1.49000000e-01 1.50000000e-01 1.51000000e-01\n",
      " 1.52000000e-01 1.53000000e-01 1.54000000e-01 1.55000000e-01\n",
      " 1.56000000e-01 1.57000000e-01 1.58000000e-01 1.59000000e-01\n",
      " 1.60000000e-01 1.61000000e-01 1.62000000e-01 1.63000000e-01\n",
      " 1.64000000e-01 1.65000000e-01 1.66000000e-01 1.67000000e-01\n",
      " 1.68000000e-01 1.69000000e-01 1.70000000e-01 1.71000000e-01\n",
      " 1.72000000e-01 1.73000000e-01 1.74000000e-01 1.75000000e-01\n",
      " 1.76000000e-01 1.77000000e-01 1.78000000e-01 1.79000000e-01\n",
      " 1.80000000e-01 1.81000000e-01 1.82000000e-01 1.83000000e-01\n",
      " 1.84000000e-01 1.85000000e-01 1.86000000e-01 1.87000000e-01\n",
      " 1.88000000e-01 1.89000000e-01 1.90000000e-01 1.91000000e-01\n",
      " 1.92000000e-01 1.93000000e-01 1.94000000e-01 1.95000000e-01\n",
      " 1.96000000e-01 1.97000000e-01 1.98000000e-01 1.99000000e-01\n",
      " 2.00000000e-01 2.01000000e-01 2.02000000e-01 2.03000000e-01\n",
      " 2.04000000e-01 2.05000000e-01 2.06000000e-01 2.07000000e-01\n",
      " 2.08000000e-01 2.09000000e-01 2.10000000e-01 2.11000000e-01\n",
      " 2.12000000e-01 2.13000000e-01 2.14000000e-01 2.15000000e-01\n",
      " 2.16000000e-01 2.17000000e-01 2.18000000e-01 2.19000000e-01\n",
      " 2.20000000e-01 2.21000000e-01 2.22000000e-01 2.23000000e-01\n",
      " 2.24000000e-01 2.25000000e-01 2.26000000e-01 2.27000000e-01\n",
      " 2.28000000e-01 2.29000000e-01 2.30000000e-01 2.31000000e-01\n",
      " 2.32000000e-01 2.33000000e-01 2.34000000e-01 2.35000000e-01\n",
      " 2.36000000e-01 2.37000000e-01 2.38000000e-01 2.39000000e-01\n",
      " 2.40000000e-01 2.41000000e-01 2.42000000e-01 2.43000000e-01\n",
      " 2.44000000e-01 2.45000000e-01 2.46000000e-01 2.47000000e-01\n",
      " 2.48000000e-01 2.49000000e-01 2.50000000e-01 2.51000000e-01\n",
      " 2.52000000e-01 2.53000000e-01 2.54000000e-01 2.55000000e-01\n",
      " 2.56000000e-01 2.57000000e-01 2.58000000e-01 2.59000000e-01\n",
      " 2.60000000e-01 2.61000000e-01 2.62000000e-01 2.63000000e-01\n",
      " 2.64000000e-01 2.65000000e-01 2.66000000e-01 2.67000000e-01\n",
      " 2.68000000e-01 2.69000000e-01 2.70000000e-01 2.71000000e-01\n",
      " 2.72000000e-01 2.73000000e-01 2.74000000e-01 2.75000000e-01\n",
      " 2.76000000e-01 2.77000000e-01 2.78000000e-01 2.79000000e-01\n",
      " 2.80000000e-01 2.81000000e-01 2.82000000e-01 2.83000000e-01\n",
      " 2.84000000e-01 2.85000000e-01 2.86000000e-01 2.87000000e-01\n",
      " 2.88000000e-01 2.89000000e-01 2.90000000e-01 2.91000000e-01\n",
      " 2.92000000e-01 2.93000000e-01 2.94000000e-01 2.95000000e-01\n",
      " 2.96000000e-01 2.97000000e-01 2.98000000e-01 2.99000000e-01\n",
      " 3.00000000e-01 3.01000000e-01 3.02000000e-01 3.03000000e-01\n",
      " 3.04000000e-01 3.05000000e-01 3.06000000e-01 3.07000000e-01\n",
      " 3.08000000e-01 3.09000000e-01 3.10000000e-01 3.11000000e-01\n",
      " 3.12000000e-01 3.13000000e-01 3.14000000e-01 3.15000000e-01\n",
      " 3.16000000e-01 3.17000000e-01 3.18000000e-01 3.19000000e-01\n",
      " 3.20000000e-01 3.21000000e-01 3.22000000e-01 3.23000000e-01\n",
      " 3.24000000e-01 3.25000000e-01 3.26000000e-01 3.27000000e-01\n",
      " 3.28000000e-01 3.29000000e-01 3.30000000e-01 3.31000000e-01\n",
      " 3.32000000e-01 3.33000000e-01 3.34000000e-01 3.35000000e-01\n",
      " 3.36000000e-01 3.37000000e-01 3.38000000e-01 3.39000000e-01\n",
      " 3.40000000e-01 3.41000000e-01 3.42000000e-01 3.43000000e-01\n",
      " 3.44000000e-01 3.45000000e-01 3.46000000e-01 3.47000000e-01\n",
      " 3.48000000e-01 3.49000000e-01 3.50000000e-01 3.51000000e-01\n",
      " 3.52000000e-01 3.53000000e-01 3.54000000e-01 3.55000000e-01\n",
      " 3.56000000e-01 3.57000000e-01 3.58000000e-01 3.59000000e-01\n",
      " 3.60000000e-01 3.61000000e-01 3.62000000e-01 3.63000000e-01\n",
      " 3.64000000e-01 3.65000000e-01 3.66000000e-01 3.67000000e-01\n",
      " 3.68000000e-01 3.69000000e-01 3.70000000e-01 3.71000000e-01\n",
      " 3.72000000e-01 3.73000000e-01 3.74000000e-01 3.75000000e-01\n",
      " 3.76000000e-01 3.77000000e-01 3.78000000e-01 3.79000000e-01\n",
      " 3.80000000e-01 3.81000000e-01 3.82000000e-01 3.83000000e-01\n",
      " 3.84000000e-01 3.85000000e-01 3.86000000e-01 3.87000000e-01\n",
      " 3.88000000e-01 3.89000000e-01 3.90000000e-01 3.91000000e-01\n",
      " 3.92000000e-01 3.93000000e-01 3.94000000e-01 3.95000000e-01\n",
      " 3.96000000e-01 3.97000000e-01 3.98000000e-01 3.99000000e-01\n",
      " 4.00000000e-01 4.01000000e-01 4.02000000e-01 4.03000000e-01\n",
      " 4.04000000e-01 4.05000000e-01 4.06000000e-01 4.07000000e-01\n",
      " 4.08000000e-01 4.09000000e-01 4.10000000e-01 4.11000000e-01\n",
      " 4.12000000e-01 4.13000000e-01 4.14000000e-01 4.15000000e-01\n",
      " 4.16000000e-01 4.17000000e-01 4.18000000e-01 4.19000000e-01\n",
      " 4.20000000e-01 4.21000000e-01 4.22000000e-01 4.23000000e-01\n",
      " 4.24000000e-01 4.25000000e-01 4.26000000e-01 4.27000000e-01\n",
      " 4.28000000e-01 4.29000000e-01 4.30000000e-01 4.31000000e-01\n",
      " 4.32000000e-01 4.33000000e-01 4.34000000e-01 4.35000000e-01\n",
      " 4.36000000e-01 4.37000000e-01 4.38000000e-01 4.39000000e-01\n",
      " 4.40000000e-01 4.41000000e-01 4.42000000e-01 4.43000000e-01\n",
      " 4.44000000e-01 4.45000000e-01 4.46000000e-01 4.47000000e-01\n",
      " 4.48000000e-01 4.49000000e-01 4.50000000e-01 4.51000000e-01\n",
      " 4.52000000e-01 4.53000000e-01 4.54000000e-01 4.55000000e-01\n",
      " 4.56000000e-01 4.57000000e-01 4.58000000e-01 4.59000000e-01\n",
      " 4.60000000e-01 4.61000000e-01 4.62000000e-01 4.63000000e-01\n",
      " 4.64000000e-01 4.65000000e-01 4.66000000e-01 4.67000000e-01\n",
      " 4.68000000e-01 4.69000000e-01 4.70000000e-01 4.71000000e-01\n",
      " 4.72000000e-01 4.73000000e-01 4.74000000e-01 4.75000000e-01\n",
      " 4.76000000e-01 4.77000000e-01 4.78000000e-01 4.79000000e-01\n",
      " 4.80000000e-01 4.81000000e-01 4.82000000e-01 4.83000000e-01\n",
      " 4.84000000e-01 4.85000000e-01 4.86000000e-01 4.87000000e-01\n",
      " 4.88000000e-01 4.89000000e-01 4.90000000e-01 4.91000000e-01\n",
      " 4.92000000e-01 4.93000000e-01 4.94000000e-01 4.95000000e-01\n",
      " 4.96000000e-01 4.97000000e-01 4.98000000e-01 4.99000000e-01\n",
      " 5.00000000e-01]\n"
     ]
    }
   ],
   "source": [
    "print(exp_return)"
   ]
  },
  {
   "cell_type": "code",
   "execution_count": 12,
   "metadata": {
    "scrolled": true
   },
   "outputs": [],
   "source": [
    "#print(risk)"
   ]
  },
  {
   "cell_type": "code",
   "execution_count": 13,
   "metadata": {},
   "outputs": [
    {
     "name": "stdout",
     "output_type": "stream",
     "text": [
      "[ 9.74e-02  4.74e-02  6.15e-02  6.25e-02]\n",
      "[ 4.74e-02  7.10e-02  5.84e-02  4.64e-02]\n",
      "[ 6.15e-02  5.84e-02  1.02e-01  6.14e-02]\n",
      "[ 6.25e-02  4.64e-02  6.14e-02  8.32e-02]\n",
      "\n"
     ]
    }
   ],
   "source": [
    "print(cov_matrix)"
   ]
  },
  {
   "cell_type": "code",
   "execution_count": 14,
   "metadata": {},
   "outputs": [
    {
     "name": "stdout",
     "output_type": "stream",
     "text": [
      "0.08324520232992441\n"
     ]
    }
   ],
   "source": [
    "print(cov_matrix[0,3])"
   ]
  },
  {
   "cell_type": "code",
   "execution_count": 15,
   "metadata": {},
   "outputs": [
    {
     "data": {
      "text/plain": [
       "0.31216547722644095"
      ]
     },
     "execution_count": 15,
     "metadata": {},
     "output_type": "execute_result"
    }
   ],
   "source": [
    "np.sqrt(cov_matrix[0,0])"
   ]
  },
  {
   "cell_type": "code",
   "execution_count": 16,
   "metadata": {
    "scrolled": true
   },
   "outputs": [
    {
     "data": {
      "image/png": "[encoded data removed]",
      "text/plain": [
       "<Figure size 432x288 with 1 Axes>"
      ]
     },
     "metadata": {
      "needs_background": "light"
     },
     "output_type": "display_data"
    }
   ],
   "source": [
    "plt.xlabel(\"Portfolio Risk\")\n",
    "plt.ylabel(\"Portfolio Expected Returns\")\n",
    "plt.title(\"Efficient Frontier\")\n",
    "plt.plot(risk,exp_return,color='red',label=\"Eff Frontier\")\n",
    "plt.plot(np.sqrt(cov_matrix[0,0]), mean_matrix[0], 'ro', color='blue',label='AAPL')\n",
    "plt.plot(np.sqrt(cov_matrix[1,1]), mean_matrix[1], 'ro', color='green',label='GOOGL')\n",
    "plt.plot(np.sqrt(cov_matrix[2,2]), mean_matrix[2], 'ro', color='orange',label='FB')\n",
    "plt.plot(np.sqrt(cov_matrix[3,3]), mean_matrix[3], 'ro', color='purple',label='AMZN')\n",
    "plt.legend()\n",
    "plt.show()"
   ]
  },
  {
   "cell_type": "code",
   "execution_count": 17,
   "metadata": {},
   "outputs": [
    {
     "data": {
      "image/png": "[encoded data removed]",
      "text/plain": [
       "<Figure size 432x288 with 1 Axes>"
      ]
     },
     "metadata": {
      "needs_background": "light"
     },
     "output_type": "display_data"
    },
    {
     "data": {
      "image/png": "[encoded data removed]",
      "text/plain": [
       "<Figure size 432x288 with 1 Axes>"
      ]
     },
     "metadata": {
      "needs_background": "light"
     },
     "output_type": "display_data"
    },
    {
     "data": {
      "image/png": "[encoded data removed]",
      "text/plain": [
       "<Figure size 432x288 with 1 Axes>"
      ]
     },
     "metadata": {
      "needs_background": "light"
     },
     "output_type": "display_data"
    }
   ],
   "source": [
    "class plotfunction:\n",
    "    def __init__(self):\n",
    "        self.mu1_ = 5\n",
    "        self.sigma1_ = 3\n",
    "        self.mu2_ = 10\n",
    "        self.sigma2_ = 7\n",
    "    \n",
    "    def function(self, a, b, p):\n",
    "        mu = np.linspace(a, b, 500)\n",
    "        w = (mu - self.mu2_) / (self.mu1_ - self.mu2_)\n",
    "        sigma =np.sqrt(w ** 2 * self.sigma1_ ** 2 + (1 - w) ** 2 * self.sigma2_ ** 2 \n",
    "                       + 2 * w * (1 - w) * self.sigma1_ * self.sigma2_ * p)\n",
    "        plt.plot(sigma, mu)\n",
    "        plt.xlabel(\"sigma\")\n",
    "        plt.ylabel(\"mu\")\n",
    "        plt.title('p = ' + str(p))\n",
    "        #plt.annotate('(%.2f, %.2f)' % (min(sigma), mu[np.argmin(sigma)]),(min(sigma), mu[np.argmin(sigma)]))\n",
    "        #plt.hlines(mu[np.argmin(sigma)], min(sigma), max(sigma), linestyles = ':')\n",
    "        #plt.vlines(min(sigma), min(mu), max(mu), linestyles = ':')\n",
    "        #plt.title(' =' + str())\n",
    "    \n",
    "k = plotfunction()\n",
    "for p in [1,0,-1]:\n",
    "    k.function(0.0, 0.5, p)\n",
    "    plt.show()"
   ]
  },
  {
   "cell_type": "code",
   "execution_count": null,
   "metadata": {},
   "outputs": [],
   "source": []
  }
 ],
 "metadata": {
  "kernelspec": {
   "display_name": "Python 3",
   "language": "python",
   "name": "python3"
  },
  "language_info": {
   "codemirror_mode": {
    "name": "ipython",
    "version": 3
   },
   "file_extension": ".py",
   "mimetype": "text/x-python",
   "name": "python",
   "nbconvert_exporter": "python",
   "pygments_lexer": "ipython3",
   "version": "3.8.3"
  }
 },
 "nbformat": 4,
 "nbformat_minor": 4
}
