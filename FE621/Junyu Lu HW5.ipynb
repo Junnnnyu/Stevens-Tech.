{
 "cells": [
  {
   "cell_type": "markdown",
   "metadata": {},
   "source": [
    "# FE621 Assigniment 5 Junyu Lu"
   ]
  },
  {
   "cell_type": "markdown",
   "metadata": {},
   "source": [
    "## Problem 1"
   ]
  },
  {
   "cell_type": "markdown",
   "metadata": {},
   "source": [
    "### (a) From Tylor Expansion"
   ]
  },
  {
   "cell_type": "markdown",
   "metadata": {},
   "source": [
    "$$ f(x+h)=f(x)+f^{'}(x)h+\\frac{1}{2}f^{''}(x)h^2+\\frac{1}{6}f^{'''}(x)h^3+O(h^4)$$\n",
    "$$f(x-h)=f(x)-f^{'}(x)h+\\frac{1}{2}f^{''}(x)h^2-\\frac{1}{6}f^{'''}(x)h^3+O(h^4)$$\n",
    "$$f(x-2h)=f(x)-2f^{'}(x)h+4\\frac{1}{2}f^{''}(x)h^2-8\\frac{1}{6}f^{'''}(x)h^3+O(h^4)$$\n",
    "#### So we expand $\\Delta_h^{(3)}f(x)$ as:\n",
    "$$ \\Delta_h^{(3)}f(x)=\\frac{1}{6h}\\left[2f(x)+2f^{'}(x)h+f^{''}h^2+\\frac{2}{6}f^{'''}h^3+O(h^4)+3f-6f+6f'h-3f''h^2+f'''h^3+O(h^4)+f-f'2h+\\frac{1}{2}f''(2h)^2-\\frac{1}{6}f'''(2h)^3+O(h^4)\\right]$$\n",
    "$$=\\frac{1}{6h}\\left[ (2+3+1-6)f+6f'h+0f''h^2+0f'''h^3+O(h^4)\\right]$$\n",
    "$$ = \\frac{6f'+O(h^4)}{6h}=f'+O(h^3)$$"
   ]
  },
  {
   "cell_type": "markdown",
   "metadata": {},
   "source": [
    "### (b)"
   ]
  },
  {
   "cell_type": "code",
   "execution_count": 1,
   "metadata": {},
   "outputs": [
    {
     "name": "stderr",
     "output_type": "stream",
     "text": [
      "<frozen importlib._bootstrap>:219: RuntimeWarning: numpy.ufunc size changed, may indicate binary incompatibility. Expected 192 from C header, got 216 from PyObject\n",
      "<frozen importlib._bootstrap>:219: RuntimeWarning: numpy.ufunc size changed, may indicate binary incompatibility. Expected 192 from C header, got 216 from PyObject\n",
      "<frozen importlib._bootstrap>:219: RuntimeWarning: numpy.ufunc size changed, may indicate binary incompatibility. Expected 192 from C header, got 216 from PyObject\n"
     ]
    }
   ],
   "source": [
    "import pandas as pd\n",
    "import numpy as np\n",
    "import matplotlib.pyplot as plt\n",
    "from scipy.stats import norm"
   ]
  },
  {
   "cell_type": "code",
   "execution_count": 2,
   "metadata": {},
   "outputs": [],
   "source": [
    "x0 = 1\n",
    "h = np.linspace(0.001,1,10000)\n",
    "ER0 = []\n",
    "ER1 = []\n",
    "ER = []\n",
    "for i in h:\n",
    "    e0 = np.cos(x0) - (np.sin(x0+i)-2*np.sin(x0)+np.sin(x0-i))/(2*i)\n",
    "    e1 = np.cos(x0) - (np.sin(x0+i)-np.sin(x0))/i\n",
    "    e = np.cos(x0) - (2*np.sin(x0+i)+3*np.sin(x0)-6*np.sin(x0-i)+np.sin(x0-2*i))/(6*i)\n",
    "    \n",
    "    ER0.append(e0)\n",
    "    ER1.append(e1)\n",
    "    ER.append(e)\n",
    "    \n",
    "log_ER0 = np.log(np.abs(ER0))\n",
    "log_ER1 = np.log(np.abs(ER1))\n",
    "log_ER = np.log(np.abs(ER))"
   ]
  },
  {
   "cell_type": "code",
   "execution_count": 7,
   "metadata": {},
   "outputs": [
    {
     "data": {
      "text/plain": [
       "<matplotlib.legend.Legend at 0x2a7cc050e20>"
      ]
     },
     "execution_count": 7,
     "metadata": {},
     "output_type": "execute_result"
    },
    {
     "data": {
      "image/png": "[encoded data removed]",
      "text/plain": [
       "<Figure size 432x288 with 1 Axes>"
      ]
     },
     "metadata": {
      "needs_background": "light"
     },
     "output_type": "display_data"
    }
   ],
   "source": [
    "plt.plot(np.log(h),log_ER0,label='center')\n",
    "plt.plot(np.log(h),log_ER1,label='forward')\n",
    "plt.plot(np.log(h),log_ER,label='new')\n",
    "plt.legend()"
   ]
  },
  {
   "cell_type": "markdown",
   "metadata": {},
   "source": [
    "### (c)"
   ]
  },
  {
   "cell_type": "code",
   "execution_count": 14,
   "metadata": {},
   "outputs": [
    {
     "name": "stdout",
     "output_type": "stream",
     "text": [
      "Slope Center equals  0.14474155731386373 , Slope Forward equals  1.0325284122441816 , Slope New equals  2.88266388153728\n"
     ]
    }
   ],
   "source": [
    "slope_C, a = np.polyfit(np.log(h), log_ER0, deg = 1)\n",
    "slope_F, b = np.polyfit(np.log(h), log_ER1, deg = 1)\n",
    "slope_N, c= np.polyfit(np.log(h), log_ER, deg = 1)\n",
    "print('Slope Center equals ',slope_C,', Slope Forward equals ',slope_F,', Slope New equals ',slope_N)"
   ]
  },
  {
   "cell_type": "markdown",
   "metadata": {},
   "source": [
    "## Problem 2 Explict Method"
   ]
  },
  {
   "cell_type": "code",
   "execution_count": 15,
   "metadata": {},
   "outputs": [],
   "source": [
    "# Parameters\n",
    "K = 10\n",
    "r = 0.05\n",
    "sigma = 0.2\n",
    "T = 0.5\n",
    "M = 100"
   ]
  },
  {
   "cell_type": "markdown",
   "metadata": {},
   "source": [
    "#### European Put Option"
   ]
  },
  {
   "cell_type": "code",
   "execution_count": 45,
   "metadata": {},
   "outputs": [],
   "source": [
    "def Euro_put_price(s,dx):\n",
    "    N = M\n",
    "    Nj = N\n",
    "    dt = T/N\n",
    "    nu = r - (sigma**2)/2\n",
    "    edx = np.exp(dx)\n",
    "    pu = 0.5*dt*((sigma/dx)**2 + nu/dx)\n",
    "    pd = 0.5*dt*((sigma/dx)**2 - nu/dx)\n",
    "    pm = 1 - pu - pd\n",
    "    \n",
    "    S = np.zeros((2*Nj+1,1))\n",
    "    S[0] = s*np.exp(-Nj*dx)\n",
    "    for i in range(1,2*Nj+1):\n",
    "        S[i] = S[i-1]*edx\n",
    "        \n",
    "    u = np.zeros((2*Nj+1,N+1))\n",
    "    for i in range(0, 2*Nj+1):\n",
    "        u[i,N] = np.exp(-r*T)*max(0,K-S[i])\n",
    "        \n",
    "    for i in range(N-1,-1,-1):\n",
    "        for j in range(1,2*Nj):\n",
    "            u[j,i] = pu*u[j+1, i+1] + pm*u[j,i+1] + pd*u[j-1,i+1]\n",
    "        u[0,i] = u[1,i]\n",
    "        u[2*Nj,i] = u[2*Nj-1,i] + (S[Nj]-S[Nj-1])\n",
    "            \n",
    "    return u[N,0]"
   ]
  },
  {
   "cell_type": "code",
   "execution_count": 46,
   "metadata": {},
   "outputs": [],
   "source": [
    "s = [i for i in range(4,17)]\n",
    "dx_1 = (np.sqrt(2))/100\n",
    "dx_2 = (np.sqrt(2))/50\n",
    "dx_0 = (np.sqrt(2))/200"
   ]
  },
  {
   "cell_type": "code",
   "execution_count": 47,
   "metadata": {},
   "outputs": [],
   "source": [
    "price_0 = []\n",
    "price_1 = []\n",
    "price_2 = []"
   ]
  },
  {
   "cell_type": "code",
   "execution_count": 48,
   "metadata": {},
   "outputs": [
    {
     "name": "stdout",
     "output_type": "stream",
     "text": [
      "[2.367426539604418e+68, 1.4700535954755246e+67, 2.639716645038615e+68, -1.4593866319155085e+71, 8.194492635625624e+76, 3.404265792596218e+80, -2.948937164120024e+81, 9.161711245636408e+79, -2.7767206162103797e+78, 9.022652273184528e+75, 6.778136701182201e+71, 6.916885980920346e+67, -4.946025181338527e+62]\n",
      "[5.7531, 4.7531, 3.7532, 2.7567, 1.7982, 0.9884, 0.4406, 0.1614, 0.0486, 0.0123, 0.0027, 0.0005, 0.0001]\n",
      "[5.7531, 4.7531, 3.7532, 2.757, 1.7986, 0.9883, 0.4399, 0.161, 0.0487, 0.0125, 0.0028, 0.0006, 0.0001]\n"
     ]
    }
   ],
   "source": [
    "for i in s:\n",
    "    p0 = Euro_put_price(i,dx_0)\n",
    "    price_0.append(round(p0,4))\n",
    "    p1 = Euro_put_price(i,dx_1)\n",
    "    price_1.append(round(p1,4))\n",
    "    p2 = Euro_put_price(i,dx_2)\n",
    "    price_2.append(round(p2,4))\n",
    "    \n",
    "print(price_0)\n",
    "print(price_1)\n",
    "print(price_2)"
   ]
  },
  {
   "cell_type": "code",
   "execution_count": 49,
   "metadata": {},
   "outputs": [],
   "source": [
    "res1 = pd.DataFrame()\n",
    "res1['S'] = s\n",
    "res1['alpha < 0.5'] = price_2\n",
    "res1['alpha = 0.5'] = price_1\n",
    "res1['alpha > 0.5'] = price_0"
   ]
  },
  {
   "cell_type": "code",
   "execution_count": 50,
   "metadata": {},
   "outputs": [
    {
     "data": {
      "text/html": [
       "<div>\n",
       "<style scoped>\n",
       "    .dataframe tbody tr th:only-of-type {\n",
       "        vertical-align: middle;\n",
       "    }\n",
       "\n",
       "    .dataframe tbody tr th {\n",
       "        vertical-align: top;\n",
       "    }\n",
       "\n",
       "    .dataframe thead th {\n",
       "        text-align: right;\n",
       "    }\n",
       "</style>\n",
       "<table border=\"1\" class=\"dataframe\">\n",
       "  <thead>\n",
       "    <tr style=\"text-align: right;\">\n",
       "      <th></th>\n",
       "      <th>S</th>\n",
       "      <th>alpha &lt; 0.5</th>\n",
       "      <th>alpha = 0.5</th>\n",
       "      <th>alpha &gt; 0.5</th>\n",
       "    </tr>\n",
       "  </thead>\n",
       "  <tbody>\n",
       "    <tr>\n",
       "      <th>0</th>\n",
       "      <td>4</td>\n",
       "      <td>5.7531</td>\n",
       "      <td>5.7531</td>\n",
       "      <td>2.367427e+68</td>\n",
       "    </tr>\n",
       "    <tr>\n",
       "      <th>1</th>\n",
       "      <td>5</td>\n",
       "      <td>4.7531</td>\n",
       "      <td>4.7531</td>\n",
       "      <td>1.470054e+67</td>\n",
       "    </tr>\n",
       "    <tr>\n",
       "      <th>2</th>\n",
       "      <td>6</td>\n",
       "      <td>3.7532</td>\n",
       "      <td>3.7532</td>\n",
       "      <td>2.639717e+68</td>\n",
       "    </tr>\n",
       "    <tr>\n",
       "      <th>3</th>\n",
       "      <td>7</td>\n",
       "      <td>2.7570</td>\n",
       "      <td>2.7567</td>\n",
       "      <td>-1.459387e+71</td>\n",
       "    </tr>\n",
       "    <tr>\n",
       "      <th>4</th>\n",
       "      <td>8</td>\n",
       "      <td>1.7986</td>\n",
       "      <td>1.7982</td>\n",
       "      <td>8.194493e+76</td>\n",
       "    </tr>\n",
       "    <tr>\n",
       "      <th>5</th>\n",
       "      <td>9</td>\n",
       "      <td>0.9883</td>\n",
       "      <td>0.9884</td>\n",
       "      <td>3.404266e+80</td>\n",
       "    </tr>\n",
       "    <tr>\n",
       "      <th>6</th>\n",
       "      <td>10</td>\n",
       "      <td>0.4399</td>\n",
       "      <td>0.4406</td>\n",
       "      <td>-2.948937e+81</td>\n",
       "    </tr>\n",
       "    <tr>\n",
       "      <th>7</th>\n",
       "      <td>11</td>\n",
       "      <td>0.1610</td>\n",
       "      <td>0.1614</td>\n",
       "      <td>9.161711e+79</td>\n",
       "    </tr>\n",
       "    <tr>\n",
       "      <th>8</th>\n",
       "      <td>12</td>\n",
       "      <td>0.0487</td>\n",
       "      <td>0.0486</td>\n",
       "      <td>-2.776721e+78</td>\n",
       "    </tr>\n",
       "    <tr>\n",
       "      <th>9</th>\n",
       "      <td>13</td>\n",
       "      <td>0.0125</td>\n",
       "      <td>0.0123</td>\n",
       "      <td>9.022652e+75</td>\n",
       "    </tr>\n",
       "    <tr>\n",
       "      <th>10</th>\n",
       "      <td>14</td>\n",
       "      <td>0.0028</td>\n",
       "      <td>0.0027</td>\n",
       "      <td>6.778137e+71</td>\n",
       "    </tr>\n",
       "    <tr>\n",
       "      <th>11</th>\n",
       "      <td>15</td>\n",
       "      <td>0.0006</td>\n",
       "      <td>0.0005</td>\n",
       "      <td>6.916886e+67</td>\n",
       "    </tr>\n",
       "    <tr>\n",
       "      <th>12</th>\n",
       "      <td>16</td>\n",
       "      <td>0.0001</td>\n",
       "      <td>0.0001</td>\n",
       "      <td>-4.946025e+62</td>\n",
       "    </tr>\n",
       "  </tbody>\n",
       "</table>\n",
       "</div>"
      ],
      "text/plain": [
       "     S  alpha < 0.5  alpha = 0.5   alpha > 0.5\n",
       "0    4       5.7531       5.7531  2.367427e+68\n",
       "1    5       4.7531       4.7531  1.470054e+67\n",
       "2    6       3.7532       3.7532  2.639717e+68\n",
       "3    7       2.7570       2.7567 -1.459387e+71\n",
       "4    8       1.7986       1.7982  8.194493e+76\n",
       "5    9       0.9883       0.9884  3.404266e+80\n",
       "6   10       0.4399       0.4406 -2.948937e+81\n",
       "7   11       0.1610       0.1614  9.161711e+79\n",
       "8   12       0.0487       0.0486 -2.776721e+78\n",
       "9   13       0.0125       0.0123  9.022652e+75\n",
       "10  14       0.0028       0.0027  6.778137e+71\n",
       "11  15       0.0006       0.0005  6.916886e+67\n",
       "12  16       0.0001       0.0001 -4.946025e+62"
      ]
     },
     "execution_count": 50,
     "metadata": {},
     "output_type": "execute_result"
    }
   ],
   "source": [
    "res1"
   ]
  },
  {
   "cell_type": "code",
   "execution_count": 51,
   "metadata": {},
   "outputs": [],
   "source": [
    "from math import log, sqrt, pi, exp"
   ]
  },
  {
   "cell_type": "code",
   "execution_count": 52,
   "metadata": {},
   "outputs": [],
   "source": [
    "def d1(S,K,T,r,sigma):\n",
    "    return(log(S/K)+(r+sigma**2/2.)*T)/(sigma*sqrt(T))\n",
    "\n",
    "def d2(S,K,T,r,sigma):\n",
    "    return d1(S,K,T,r,sigma)-sigma*sqrt(T)\n",
    "\n",
    "def bs_call(S,K,T,r,sigma):\n",
    "    return S*norm.cdf(d1(S,K,T,r,sigma))-K*exp(-r*T)*norm.cdf(d2(S,K,T,r,sigma))\n",
    "\n",
    "def bs_put(S,K,T,r,sigma): \n",
    "    return bs_call(S,K,T,r,sigma) - S + K * exp(-r * T)"
   ]
  },
  {
   "cell_type": "code",
   "execution_count": 53,
   "metadata": {},
   "outputs": [],
   "source": [
    "price_bs = []\n",
    "\n",
    "for i in s:\n",
    "    price = round(bs_put(i,T,K,r,sigma),4)\n",
    "    price_bs.append(price)"
   ]
  },
  {
   "cell_type": "code",
   "execution_count": 54,
   "metadata": {},
   "outputs": [
    {
     "data": {
      "text/html": [
       "<div>\n",
       "<style scoped>\n",
       "    .dataframe tbody tr th:only-of-type {\n",
       "        vertical-align: middle;\n",
       "    }\n",
       "\n",
       "    .dataframe tbody tr th {\n",
       "        vertical-align: top;\n",
       "    }\n",
       "\n",
       "    .dataframe thead th {\n",
       "        text-align: right;\n",
       "    }\n",
       "</style>\n",
       "<table border=\"1\" class=\"dataframe\">\n",
       "  <thead>\n",
       "    <tr style=\"text-align: right;\">\n",
       "      <th></th>\n",
       "      <th>S</th>\n",
       "      <th>alpha &lt; 0.5</th>\n",
       "      <th>alpha = 0.5</th>\n",
       "      <th>alpha &gt; 0.5</th>\n",
       "      <th>exact</th>\n",
       "    </tr>\n",
       "  </thead>\n",
       "  <tbody>\n",
       "    <tr>\n",
       "      <th>0</th>\n",
       "      <td>4</td>\n",
       "      <td>5.7531</td>\n",
       "      <td>5.7531</td>\n",
       "      <td>2.367427e+68</td>\n",
       "      <td>0.0</td>\n",
       "    </tr>\n",
       "    <tr>\n",
       "      <th>1</th>\n",
       "      <td>5</td>\n",
       "      <td>4.7531</td>\n",
       "      <td>4.7531</td>\n",
       "      <td>1.470054e+67</td>\n",
       "      <td>0.0</td>\n",
       "    </tr>\n",
       "    <tr>\n",
       "      <th>2</th>\n",
       "      <td>6</td>\n",
       "      <td>3.7532</td>\n",
       "      <td>3.7532</td>\n",
       "      <td>2.639717e+68</td>\n",
       "      <td>0.0</td>\n",
       "    </tr>\n",
       "    <tr>\n",
       "      <th>3</th>\n",
       "      <td>7</td>\n",
       "      <td>2.7570</td>\n",
       "      <td>2.7567</td>\n",
       "      <td>-1.459387e+71</td>\n",
       "      <td>0.0</td>\n",
       "    </tr>\n",
       "    <tr>\n",
       "      <th>4</th>\n",
       "      <td>8</td>\n",
       "      <td>1.7986</td>\n",
       "      <td>1.7982</td>\n",
       "      <td>8.194493e+76</td>\n",
       "      <td>0.0</td>\n",
       "    </tr>\n",
       "    <tr>\n",
       "      <th>5</th>\n",
       "      <td>9</td>\n",
       "      <td>0.9883</td>\n",
       "      <td>0.9884</td>\n",
       "      <td>3.404266e+80</td>\n",
       "      <td>0.0</td>\n",
       "    </tr>\n",
       "    <tr>\n",
       "      <th>6</th>\n",
       "      <td>10</td>\n",
       "      <td>0.4399</td>\n",
       "      <td>0.4406</td>\n",
       "      <td>-2.948937e+81</td>\n",
       "      <td>0.0</td>\n",
       "    </tr>\n",
       "    <tr>\n",
       "      <th>7</th>\n",
       "      <td>11</td>\n",
       "      <td>0.1610</td>\n",
       "      <td>0.1614</td>\n",
       "      <td>9.161711e+79</td>\n",
       "      <td>0.0</td>\n",
       "    </tr>\n",
       "    <tr>\n",
       "      <th>8</th>\n",
       "      <td>12</td>\n",
       "      <td>0.0487</td>\n",
       "      <td>0.0486</td>\n",
       "      <td>-2.776721e+78</td>\n",
       "      <td>0.0</td>\n",
       "    </tr>\n",
       "    <tr>\n",
       "      <th>9</th>\n",
       "      <td>13</td>\n",
       "      <td>0.0125</td>\n",
       "      <td>0.0123</td>\n",
       "      <td>9.022652e+75</td>\n",
       "      <td>0.0</td>\n",
       "    </tr>\n",
       "    <tr>\n",
       "      <th>10</th>\n",
       "      <td>14</td>\n",
       "      <td>0.0028</td>\n",
       "      <td>0.0027</td>\n",
       "      <td>6.778137e+71</td>\n",
       "      <td>0.0</td>\n",
       "    </tr>\n",
       "    <tr>\n",
       "      <th>11</th>\n",
       "      <td>15</td>\n",
       "      <td>0.0006</td>\n",
       "      <td>0.0005</td>\n",
       "      <td>6.916886e+67</td>\n",
       "      <td>0.0</td>\n",
       "    </tr>\n",
       "    <tr>\n",
       "      <th>12</th>\n",
       "      <td>16</td>\n",
       "      <td>0.0001</td>\n",
       "      <td>0.0001</td>\n",
       "      <td>-4.946025e+62</td>\n",
       "      <td>0.0</td>\n",
       "    </tr>\n",
       "  </tbody>\n",
       "</table>\n",
       "</div>"
      ],
      "text/plain": [
       "     S  alpha < 0.5  alpha = 0.5   alpha > 0.5  exact\n",
       "0    4       5.7531       5.7531  2.367427e+68    0.0\n",
       "1    5       4.7531       4.7531  1.470054e+67    0.0\n",
       "2    6       3.7532       3.7532  2.639717e+68    0.0\n",
       "3    7       2.7570       2.7567 -1.459387e+71    0.0\n",
       "4    8       1.7986       1.7982  8.194493e+76    0.0\n",
       "5    9       0.9883       0.9884  3.404266e+80    0.0\n",
       "6   10       0.4399       0.4406 -2.948937e+81    0.0\n",
       "7   11       0.1610       0.1614  9.161711e+79    0.0\n",
       "8   12       0.0487       0.0486 -2.776721e+78    0.0\n",
       "9   13       0.0125       0.0123  9.022652e+75    0.0\n",
       "10  14       0.0028       0.0027  6.778137e+71    0.0\n",
       "11  15       0.0006       0.0005  6.916886e+67    0.0\n",
       "12  16       0.0001       0.0001 -4.946025e+62    0.0"
      ]
     },
     "execution_count": 54,
     "metadata": {},
     "output_type": "execute_result"
    }
   ],
   "source": [
    "res2 = res1.copy()\n",
    "res2['exact'] = price_bs\n",
    "res2"
   ]
  },
  {
   "cell_type": "markdown",
   "metadata": {},
   "source": [
    "#### American Put Option"
   ]
  },
  {
   "cell_type": "code",
   "execution_count": 55,
   "metadata": {},
   "outputs": [],
   "source": [
    "def Amer_put_price(s,dx):\n",
    "    N = M\n",
    "    Nj = N\n",
    "    dt = T/N\n",
    "    nu = r - (sigma**2)/2\n",
    "    edx = np.exp(dx)\n",
    "    pu = 0.5*dt*((sigma/dx)**2 + nu/dx)\n",
    "    pd = 0.5*dt*((sigma/dx)**2 - nu/dx)\n",
    "    pm = 1 - pu - pd\n",
    "    \n",
    "    S = np.zeros((2*Nj+1,1))\n",
    "    S[-Nj] = s*np.exp(-Nj*dx)\n",
    "    for i in range(-Nj+1,Nj+1):\n",
    "        S[i] = S[i-1]*edx\n",
    "        \n",
    "    u = np.zeros((2,2*Nj+1))\n",
    "    for i in range(-Nj, Nj+1):\n",
    "        u[0,i] = max(0,K-S[i])\n",
    "        \n",
    "    for i in range(N-1,-1,-1):\n",
    "        for j in range(-Nj+1, Nj):\n",
    "            u[1,j] = pu*u[0, j+1] + pm*u[0,j] + pd*u[0,j-1]\n",
    "        u[1,-Nj] = u[1,-Nj+1]+(S[-Nj+1]-S[-Nj])\n",
    "        u[1,Nj] = u[1,Nj-1]\n",
    "        \n",
    "        for k in range(-Nj,Nj+1):\n",
    "            u[0,k] = max(u[1,k],K-S[k])\n",
    "            \n",
    "    return u[0,0]"
   ]
  },
  {
   "cell_type": "code",
   "execution_count": 56,
   "metadata": {},
   "outputs": [
    {
     "name": "stdout",
     "output_type": "stream",
     "text": [
      "[2.367426539604418e+68, 1.4700535954755246e+67, 2.639716645038615e+68, -1.4593866319155085e+71, 8.194492635625624e+76, 3.404265792596218e+80, -2.948937164120024e+81, 9.161711245636408e+79, -2.7767206162103797e+78, 9.022652273184528e+75, 6.778136701182201e+71, 6.916885980920346e+67, -4.946025181338527e+62, 2.367426539604418e+68, 1.4700535954755246e+67, 2.639716645038615e+68, -1.4593866319155085e+71, 8.194492635625624e+76, 3.404265792596218e+80, -2.948937164120024e+81, 9.161711245636408e+79, -2.7767206162103797e+78, 9.022652273184528e+75, 6.778136701182201e+71, 6.916885980920346e+67, -4.946025181338527e+62]\n",
      "[5.7531, 4.7531, 3.7532, 2.7567, 1.7982, 0.9884, 0.4406, 0.1614, 0.0486, 0.0123, 0.0027, 0.0005, 0.0001, 5.7531, 4.7531, 3.7532, 2.7567, 1.7982, 0.9884, 0.4406, 0.1614, 0.0486, 0.0123, 0.0027, 0.0005, 0.0001]\n",
      "[5.7531, 4.7531, 3.7532, 2.757, 1.7986, 0.9883, 0.4399, 0.161, 0.0487, 0.0125, 0.0028, 0.0006, 0.0001, 5.7531, 4.7531, 3.7532, 2.757, 1.7986, 0.9883, 0.4399, 0.161, 0.0487, 0.0125, 0.0028, 0.0006, 0.0001]\n"
     ]
    }
   ],
   "source": [
    "for i in s:\n",
    "    p0 = Euro_put_price(i,dx_0)\n",
    "    price_0.append(round(p0,4))\n",
    "    p1 = Euro_put_price(i,dx_1)\n",
    "    price_1.append(round(p1,4))\n",
    "    p2 = Euro_put_price(i,dx_2)\n",
    "    price_2.append(round(p2,4))\n",
    "    \n",
    "print(price_0)\n",
    "print(price_1)\n",
    "print(price_2)"
   ]
  },
  {
   "cell_type": "markdown",
   "metadata": {},
   "source": [
    "## Problem 3 Implicit Methods"
   ]
  },
  {
   "cell_type": "markdown",
   "metadata": {},
   "source": [
    "### (a)\n",
    "$$ -\\frac{\\partial C}{\\partial t}=\\frac{1}{2}S^2\\sigma^2\\frac{\\partial^2 C}{\\partial S^2}+(r-\\delta)S\\frac{\\partial C}{\\partial S}-rC$$\n",
    "$$ -\\frac{\\partial C}{\\partial t}=\\frac{1}{2}\\sigma^2 \\frac{\\partial^2 C}{\\partial x^2}+v\\frac{\\partial C}{\\partial x}-rC $$\n",
    "$$ \\frac{C_{i,j}-C_{i-1,j}}{\\Delta t} = -\\frac{1}{2}\\sigma^2 \\frac{C_{i-1,j+1}-2C_{i-1,j}+C_{i-1,j-1}}{\\Delta x^2}-(r-\\frac{\\sigma^2}{2}\\frac{C_{i-1,j+1}-C_{i-1,j-1}}{2\\Delta x}+rC_{i-1,j}$$\n",
    "$$ C_{i,j}=-\\frac{\\Delta t}{2\\Delta x}\\left[\\frac{\\sigma^2}{\\Delta x}+(r-\\frac{\\sigma^2}{2})\\right]C_{i-1,j+1}+\\left[1+\\frac{\\sigma^2 \\Delta t}{\\Delta x^2}+r \\right]C_{i-1,j}-\\frac{\\Delta t}{2\\Delta x}\\left[\\frac{\\sigma^2}{\\Delta x}-(r-\\frac{\\sigma^2}{2})\\right]C_{i-1,j-1}$$\n",
    "$$=(\\alpha+\\beta)C_{j+1}^{i-1}+(1-2\\beta)C_j^{i-1}+(-\\alpha+\\beta)C_{j-1}^{i-1}$$\n",
    "we have i = m, j = n and C = $\\tilde{u}$,so we can get:\n",
    "$$\\tilde{u}_n^{m+1} = (\\alpha+\\beta)\\tilde{u}_{n+1}^{m}+(1-2\\beta)\\tilde{u}_{n}^{m}+(-\\alpha+\\beta)\\tilde{u}_{n-1}^{m}$$"
   ]
  },
  {
   "cell_type": "markdown",
   "metadata": {},
   "source": [
    "### (b)\n"
   ]
  },
  {
   "cell_type": "markdown",
   "metadata": {},
   "source": [
    "### (d)"
   ]
  },
  {
   "cell_type": "code",
   "execution_count": 58,
   "metadata": {},
   "outputs": [],
   "source": [
    "def imp_fdm_euro(K,T,S,sig,r,div,N,Nj,dx,option_type):\n",
    "    dt=T/N\n",
    "    nu=r-div-0.5*sig**2\n",
    "    edx=np.exp(dx)\n",
    "    pu=-0.5*dt*((sig/dx)**2+nu/dx)\n",
    "    pm=1+dt*(sig/dx)**2+r*dt\n",
    "    pd=-0.5*dt*((sig/dx)**2-nu/dx)\n",
    "    \n",
    "    St=[0]*(2*Nj+1)\n",
    "    C=np.zeros(shape=(2,2*Nj+1))\n",
    "    \n",
    "    St[0]=S*np.exp(-Nj*dx)\n",
    "    for j in range(1,2*Nj+1):\n",
    "        St[j]=St[j-1]*edx\n",
    "    \n",
    "    if option_type==0:\n",
    "        sign=1\n",
    "        lambda_U=St[2*Nj]-St[2*Nj-1]\n",
    "        lambda_L=0\n",
    "    elif option_type==1:\n",
    "        sign=-1\n",
    "        lambda_U=0\n",
    "        lambda_L=-1*(St[1]-St[0])\n",
    "    else:\n",
    "        print('ERROR')\n",
    "        return\n",
    "\n",
    "    for j in range(0,2*Nj+1):\n",
    "        C[0,j]=max(0,sign*(St[j]-K))\n",
    "   \n",
    "    def solve_implicit_trdiagonal_system(C,pu,pm,pd,lambda_L,lambda_U):\n",
    "        pmp=[0]*(2*Nj+1)\n",
    "        pp=[0]*(2*Nj+1)\n",
    "        \n",
    "        pmp[1]=pm+pd\n",
    "        pp[1]=C[0,1]+pd*lambda_L\n",
    "        \n",
    "        for j in range(2,2*Nj):\n",
    "            pmp[j]=pm-pu*pd/pmp[j-1]\n",
    "            pp[j]=C[0,j]-pp[j-1]*pd/pmp[j-1]\n",
    "            \n",
    "        C[1,2*Nj]=(pp[2*Nj-1]+pmp[2*Nj-1]*lambda_U)/(pu+pmp[2*Nj-1])\n",
    "        C[1,2*Nj-1]=C[1,2*Nj]-lambda_U\n",
    "        \n",
    "        for j in range(2*Nj-2,0,-1):\n",
    "            C[1,j]=(pp[j]-pu*C[1,j+1])/pmp[j]\n",
    "        \n",
    "        C[1,0]=C[1,1]-lambda_L\n",
    "        return\n",
    "    \n",
    "    for i in range(N-1,-1,-1):\n",
    "        solve_implicit_trdiagonal_system(C,pu,pm,pd,lambda_L,lambda_U)\n",
    "        for j in range(0,2*Nj+1):\n",
    "            C[0,j]=C[1,j]\n",
    "            \n",
    "    return C[0,Nj]"
   ]
  },
  {
   "cell_type": "code",
   "execution_count": 61,
   "metadata": {},
   "outputs": [],
   "source": [
    "K=10\n",
    "T=0.5\n",
    "S=50\n",
    "sig=0.2\n",
    "r=0.05; \n",
    "div=0.03; \n",
    "N=100\n",
    "Nj=3; \n",
    "dx=0.2"
   ]
  },
  {
   "cell_type": "code",
   "execution_count": 62,
   "metadata": {},
   "outputs": [
    {
     "name": "stdout",
     "output_type": "stream",
     "text": [
      "39.51601280476245\n",
      "0.011763552296507475\n"
     ]
    }
   ],
   "source": [
    "print(imp_fdm_euro(K,T,S,sig,r,div,N,Nj,dx,0))\n",
    "print(imp_fdm_euro(K,T,S,sig,r,div,N,Nj,dx,1))"
   ]
  }
 ],
 "metadata": {
  "kernelspec": {
   "display_name": "Python 3",
   "language": "python",
   "name": "python3"
  },
  "language_info": {
   "codemirror_mode": {
    "name": "ipython",
    "version": 3
   },
   "file_extension": ".py",
   "mimetype": "text/x-python",
   "name": "python",
   "nbconvert_exporter": "python",
   "pygments_lexer": "ipython3",
   "version": "3.8.3"
  }
 },
 "nbformat": 4,
 "nbformat_minor": 4
}
